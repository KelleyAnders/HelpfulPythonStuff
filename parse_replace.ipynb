{
 "cells": [
  {
   "cell_type": "code",
   "execution_count": 2,
   "id": "f18f0c90",
   "metadata": {},
   "outputs": [],
   "source": [
    "#normalize a URL by stripping out the language section\n",
    "import sys\n",
    "import pandas as pd\n",
    "import re\n",
    "import click\n",
    "import time\n",
    "import xlrd\n",
    "import numpy as np\n",
    "import itertools\n",
    "\n",
    "from pathlib import Path, PurePath\n",
    "from urllib.parse import urlparse"
   ]
  },
  {
   "cell_type": "code",
   "execution_count": 25,
   "id": "3510c3a0",
   "metadata": {},
   "outputs": [],
   "source": [
    "#list set up the list of items to be replaces\n",
    "items = ['item1', 'item2']"
   ]
  },
  {
   "cell_type": "code",
   "execution_count": 27,
   "id": "58f1db04",
   "metadata": {},
   "outputs": [],
   "source": [
    "#Read in the file\n",
    "in_df = pd.read_csv('file.csv', encoding='utf-8', low_memory=False)"
   ]
  },
  {
   "cell_type": "code",
   "execution_count": null,
   "id": "46bd85d9",
   "metadata": {},
   "outputs": [],
   "source": [
    "# get the info\n",
    "in_df.index\n",
    "in_df.columns\n",
    "in_df.head()"
   ]
  },
  {
   "cell_type": "code",
   "execution_count": null,
   "id": "1a5fe11f",
   "metadata": {},
   "outputs": [],
   "source": [
    "# Cycle through each of the rows in the smaller dataframe \n",
    "#one way to do it \n",
    "\n",
    "for index,row in in_df.iterrows():\n",
    "#Parse the URL for the language\n",
    "    replace_this = row[\"column\"]\n",
    "    for language in langs:\n",
    "        replace_this = (replace_this.replace(language, \"\"))\n",
    "    print(replace_this)"
   ]
  },
  {
   "cell_type": "code",
   "execution_count": 31,
   "id": "9356a6b8",
   "metadata": {},
   "outputs": [],
   "source": [
    "# Do lambda function and apply it to the row to remove the language \n",
    "# this is a better way\n",
    "def replace_this_value(row):\n",
    "    replace_this = row[\"column\"]\n",
    "    for entry in items:\n",
    "        replace_this = (replace_this.replace(language, \"\"))\n",
    "    return(replace_this)"
   ]
  },
  {
   "cell_type": "code",
   "execution_count": 32,
   "id": "18a8658e",
   "metadata": {},
   "outputs": [],
   "source": [
    "in_df[\"New Column\"] = in_df.apply(lambda x:replace_this_value(x),axis=1)"
   ]
  },
  {
   "cell_type": "code",
   "execution_count": null,
   "id": "263e4998",
   "metadata": {},
   "outputs": [],
   "source": [
    "#write resulting dataframe to csv\n",
    "in_df.to_csv(path_or_buf='NewFile.csv', index=False)"
   ]
  }
 ],
 "metadata": {
  "kernelspec": {
   "display_name": "Python 3",
   "language": "python",
   "name": "python3"
  },
  "language_info": {
   "codemirror_mode": {
    "name": "ipython",
    "version": 3
   },
   "file_extension": ".py",
   "mimetype": "text/x-python",
   "name": "python",
   "nbconvert_exporter": "python",
   "pygments_lexer": "ipython3",
   "version": "3.8.8"
  }
 },
 "nbformat": 4,
 "nbformat_minor": 5
}
