import datetime as dt 
import pandas as pd
year = (dt.date.today().isocalendar()[0])
quarter = (pd.Timestamp(dt.datetime.today().strftime('%Y-%m-%d')).quarter)
week = (dt.date.today().isocalendar()[1])
today = (dt.date.today().strftime('%m-%d-%Y'))

print ("Year: ", year, "\n",
       "Quarter: ", quarter, "\n",
       "Week: ",week, "\n",
       "Today: ", today)
