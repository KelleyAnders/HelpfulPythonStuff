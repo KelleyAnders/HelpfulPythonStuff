{
 "cells": [
  {
   "cell_type": "code",
   "execution_count": 1,
   "id": "e52507f9",
   "metadata": {},
   "outputs": [
    {
     "name": "stdout",
     "output_type": "stream",
     "text": [
      "Hello\n"
     ]
    }
   ],
   "source": [
    "#Chapter 1 print\n",
    "print(\"Hello\")"
   ]
  },
  {
   "cell_type": "code",
   "execution_count": 2,
   "id": "479d6644",
   "metadata": {},
   "outputs": [
    {
     "name": "stdout",
     "output_type": "stream",
     "text": [
      "Kelley\n"
     ]
    }
   ],
   "source": [
    "#Chapter 2 Variables for Strings\n",
    "name = \"Kelley\"\n",
    "print(name)"
   ]
  },
  {
   "cell_type": "code",
   "execution_count": 3,
   "id": "fffc7679",
   "metadata": {},
   "outputs": [
    {
     "name": "stdout",
     "output_type": "stream",
     "text": [
      "30\n"
     ]
    }
   ],
   "source": [
    "#Chapter 3 Variables for Numbers\n",
    "original_num = 23\n",
    "num_to_be_added = 7\n",
    "new_num = original_num + num_to_be_added\n",
    "print(new_num)"
   ]
  },
  {
   "cell_type": "code",
   "execution_count": 4,
   "id": "407460cf",
   "metadata": {},
   "outputs": [
    {
     "name": "stdout",
     "output_type": "stream",
     "text": [
      "13\n"
     ]
    }
   ],
   "source": [
    "#Chapter 4 Math Expresssions: Familiar operators\n",
    "popular_num = 7 + 6\n",
    "print(popular_num)"
   ]
  },
  {
   "cell_type": "code",
   "execution_count": 6,
   "id": "e7bfb26a",
   "metadata": {},
   "outputs": [
    {
     "name": "stdout",
     "output_type": "stream",
     "text": [
      "Floribunda\n",
      "Grandiflora\n"
     ]
    }
   ],
   "source": [
    "#Chapter 5 Variable names Legal and Illegal\n",
    "rose = \"Floribunda\"\n",
    "Rose  = \"Grandiflora\"\n",
    "print(rose)\n",
    "print(Rose)"
   ]
  },
  {
   "cell_type": "code",
   "execution_count": 11,
   "id": "96995a55",
   "metadata": {},
   "outputs": [
    {
     "name": "stdout",
     "output_type": "stream",
     "text": [
      "1\n",
      "5\n"
     ]
    }
   ],
   "source": [
    "#Chapter 6 Unfamiliar operators\n",
    "whats_left_over = 10 % 3\n",
    "# % gives the remainder\n",
    "# / is the divisor\n",
    "print(whats_left_over)\n",
    "\n",
    "age =+ 5\n",
    "print(age)\n",
    "#can also do -+, *=,  /=, don't know why you might want to do %= but you could"
   ]
  },
  {
   "cell_type": "code",
   "execution_count": 12,
   "id": "0d615def",
   "metadata": {},
   "outputs": [
    {
     "name": "stdout",
     "output_type": "stream",
     "text": [
      "13\n",
      "13\n"
     ]
    }
   ],
   "source": [
    "#Chapter 7 Math expressions: Eliminating Amnbiguity\n",
    "#use parans to eliminate ambiguity \n",
    "total_cost_ambig = 1 + 3 * 4\n",
    "total_cost_unambig = 1 + (3 * 4)\n",
    "print(total_cost_ambig)\n",
    "print(total_cost_unambig)"
   ]
  },
  {
   "cell_type": "code",
   "execution_count": 14,
   "id": "6b78daa8",
   "metadata": {},
   "outputs": [
    {
     "name": "stdout",
     "output_type": "stream",
     "text": [
      "Hello, World!\n"
     ]
    }
   ],
   "source": [
    "#Chapter 8 Concatenating text strings\n",
    "greeting = \"Hello\"\n",
    "separators = \", \"\n",
    "addressee = \"World\"\n",
    "punc = \"!\"\n",
    "whole_greeting = greeting + separators + addressee + punc\n",
    "print(whole_greeting)"
   ]
  },
  {
   "cell_type": "code",
   "execution_count": 18,
   "id": "4bb8cd3b",
   "metadata": {},
   "outputs": [
    {
     "name": "stdout",
     "output_type": "stream",
     "text": [
      "Great job thus far!\n"
     ]
    }
   ],
   "source": [
    "#Chapter 9 if statements\n",
    "#if is always lower case and need to indent - standard is 2 spaces\n",
    "some_variable_you_like = 1\n",
    "if some_variable_you_like == 1:\n",
    "    print(\"Great job thus far!\")"
   ]
  },
  {
   "cell_type": "code",
   "execution_count": null,
   "id": "0d9bbd4e",
   "metadata": {},
   "outputs": [],
   "source": [
    "#Chapter 10 Comparison operators\n"
   ]
  }
 ],
 "metadata": {
  "kernelspec": {
   "display_name": "Python 3",
   "language": "python",
   "name": "python3"
  },
  "language_info": {
   "codemirror_mode": {
    "name": "ipython",
    "version": 3
   },
   "file_extension": ".py",
   "mimetype": "text/x-python",
   "name": "python",
   "nbconvert_exporter": "python",
   "pygments_lexer": "ipython3",
   "version": "3.8.8"
  }
 },
 "nbformat": 4,
 "nbformat_minor": 5
}
