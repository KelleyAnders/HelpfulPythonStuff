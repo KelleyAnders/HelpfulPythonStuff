{
 "cells": [
  {
   "cell_type": "code",
   "execution_count": 6,
   "metadata": {},
   "outputs": [],
   "source": [
    "# Date functions\n",
    "\n",
    "#Author: Kelley Anders\n",
    "\n",
    "def get_reporting_dates():\n",
    "   import datetime as dt\n",
    "   # Get the dates for the the current week in a year\n",
    "   current_year = dt.date.today().isocalendar()[0] # current year\n",
    "   current_week = (dt.date.today().isocalendar()[1]) # current week minus\n",
    "   startdate = dt.date.fromisocalendar(current_year, current_week, 1)\n",
    "\n",
    "   # Get all the dates in the reporting_week\n",
    "   dates = []\n",
    "   for i in range(7):\n",
    "      day = startdate + dt.timedelta(days=i)\n",
    "      dates.append(day.strftime('%Y-%m-%d'))\n",
    "\n",
    "   return(current_year, current_week, dates)"
   ]
  },
  {
   "cell_type": "code",
   "execution_count": 8,
   "metadata": {},
   "outputs": [
    {
     "name": "stdout",
     "output_type": "stream",
     "text": [
      "Current Year:  2024 \n",
      " Current Week:  40 \n",
      " Datet in Week:  ['2024-09-30', '2024-10-01', '2024-10-02', '2024-10-03', '2024-10-04', '2024-10-05', '2024-10-06']\n"
     ]
    }
   ],
   "source": [
    "curr_year = get_reporting_dates()[0]\n",
    "curr_week = get_reporting_dates()[1]\n",
    "week_dates = get_reporting_dates()[2]\n",
    "\n",
    "print(\"Current Year: \", curr_year, \"\\n\", \n",
    "      \"Current Week: \", curr_week, \"\\n\",\n",
    "      \"Datet in Week: \", week_dates)"
   ]
  },
  {
   "cell_type": "code",
   "execution_count": null,
   "metadata": {},
   "outputs": [],
   "source": []
  }
 ],
 "metadata": {
  "kernelspec": {
   "display_name": "Python 3",
   "language": "python",
   "name": "python3"
  },
  "language_info": {
   "codemirror_mode": {
    "name": "ipython",
    "version": 3
   },
   "file_extension": ".py",
   "mimetype": "text/x-python",
   "name": "python",
   "nbconvert_exporter": "python",
   "pygments_lexer": "ipython3",
   "version": "3.9.12"
  }
 },
 "nbformat": 4,
 "nbformat_minor": 2
}
