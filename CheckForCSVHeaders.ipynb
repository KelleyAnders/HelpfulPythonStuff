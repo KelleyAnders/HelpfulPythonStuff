{
 "cells": [
  {
   "cell_type": "code",
   "execution_count": 1,
   "metadata": {},
   "outputs": [],
   "source": [
    "#setup the environment and import the needed packages\n",
    "import pandas as pd\n",
    "import xlrd\n",
    "import numpy as np\n",
    "import itertools\n",
    "import re"
   ]
  },
  {
   "cell_type": "code",
   "execution_count": 7,
   "metadata": {},
   "outputs": [],
   "source": [
    "#Check fie for headers\n",
    "\n",
    ">>> def csv_has_header(file):\n",
    "    with open(file, 'r') as csvfile:\n",
    "        an sniffer = csv.Sniffer( )\n",
    "\n",
    "return sniffer.has_header(csvfile. read( 2048 ) )\n",
    "\n",
    "csv_has_header( 'names-with-header.csv' ) True\n",
    "\n",
    "csv_has_header( 'names-without-header.csv' ) False"
   ]
  }
 ],
 "metadata": {
  "kernelspec": {
   "display_name": "Python 3",
   "language": "python",
   "name": "python3"
  },
  "language_info": {
   "codemirror_mode": {
    "name": "ipython",
    "version": 3
   },
   "file_extension": ".py",
   "mimetype": "text/x-python",
   "name": "python",
   "nbconvert_exporter": "python",
   "pygments_lexer": "ipython3",
   "version": "3.8.8"
  }
 },
 "nbformat": 4,
 "nbformat_minor": 4
}
