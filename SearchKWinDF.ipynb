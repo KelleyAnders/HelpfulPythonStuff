{
 "cells": [
  {
   "cell_type": "code",
   "execution_count": 64,
   "metadata": {},
   "outputs": [],
   "source": [
    "#setup the environment and import the needed packages\n",
    "import pandas as pd\n",
    "import xlrd\n",
    "import numpy as np\n",
    "import itertools\n",
    "import re"
   ]
  },
  {
   "cell_type": "code",
   "execution_count": 65,
   "metadata": {},
   "outputs": [],
   "source": [
    "#Read in the file\n",
    "in_df = pd.read_csv('FileName.csv', encoding='utf-8', low_memory=False)"
   ]
  },
  {
   "cell_type": "code",
   "execution_count": 67,
   "metadata": {},
   "outputs": [],
   "source": [
    "#remove blank columns\n",
    "# Find the columns where each value is null\n",
    "empty_cols = [col for col in in_df.columns if in_df[col].isnull().all()]\n",
    "# Drop these columns from the dataframe\n",
    "in_df.drop(empty_cols,\n",
    "        axis=1,\n",
    "        inplace=True)"
   ]
  },
  {
   "cell_type": "code",
   "execution_count": 69,
   "metadata": {},
   "outputs": [],
   "source": [
    "#build a dictonary of words to search for in the dataframe\n",
    "search = ['moving off', 'cloud experience', 'skills', 'leave', 'move', 'microsoft','cloud']"
   ]
  },
  {
   "cell_type": "code",
   "execution_count": 74,
   "metadata": {},
   "outputs": [],
   "source": [
    "#iterate through dataframe\n",
    "for item in search:\n",
    "#    for col in cols_to_search:\n",
    "#       for i, row in in_df.iterrows():\n",
    "        #in_df[in_df.columns.str.contains(item, case=False)]\n",
    "        new_df = in_df[item] = in_df.astype(str).sum(axis=1).str.contains(item, case=False)"
   ]
  },
  {
   "cell_type": "code",
   "execution_count": 76,
   "metadata": {},
   "outputs": [],
   "source": [
    "#write resulting dataframe to csv\n",
    "in_df.to_csv(path_or_buf='Searched.csv', index=False)"
   ]
  }
 ],
 "metadata": {
  "kernelspec": {
   "display_name": "Python 3",
   "language": "python",
   "name": "python3"
  },
  "language_info": {
   "codemirror_mode": {
    "name": "ipython",
    "version": 3
   },
   "file_extension": ".py",
   "mimetype": "text/x-python",
   "name": "python",
   "nbconvert_exporter": "python",
   "pygments_lexer": "ipython3",
   "version": "3.8.8"
  }
 },
 "nbformat": 4,
 "nbformat_minor": 4
}
